{
  "nbformat": 4,
  "nbformat_minor": 0,
  "metadata": {
    "colab": {
      "provenance": [],
      "collapsed_sections": [],
      "authorship_tag": "ABX9TyPkAx+sXPr3aY8O2Ge34ZoC",
      "include_colab_link": true
    },
    "kernelspec": {
      "name": "python3",
      "display_name": "Python 3"
    },
    "language_info": {
      "name": "python"
    }
  },
  "cells": [
    {
      "cell_type": "markdown",
      "metadata": {
        "id": "view-in-github",
        "colab_type": "text"
      },
      "source": [
        "<a href=\"https://colab.research.google.com/github/Alan-Passos/Alan-Passos/blob/main/ArquivoProg_py.ipynb\" target=\"_parent\"><img src=\"https://colab.research.google.com/assets/colab-badge.svg\" alt=\"Open In Colab\"/></a>"
      ]
    },
    {
      "cell_type": "code",
      "execution_count": null,
      "metadata": {
        "colab": {
          "base_uri": "https://localhost:8080/"
        },
        "id": "60x8pyOGwChv",
        "outputId": "85f39fbc-dd1a-4413-c123-861973953689"
      },
      "outputs": [
        {
          "output_type": "stream",
          "name": "stdout",
          "text": [
            "Número de derrotas:5\n",
            "Número de empates:5\n",
            "Número de vitorias:28\n",
            "0\n",
            "5\n",
            "84\n",
            "89\n",
            "Todas as rodadas foram concluídas\n"
          ]
        }
      ],
      "source": [
        "\"\"\"\n",
        "variaveis e estrutura de seleção if-else\n",
        "x=210\n",
        "y=90\n",
        "if x>60:\n",
        "    print('x maior que 60')\n",
        "else:\n",
        "    print('x não é maior que 60')\"\"\"\n",
        "'''\n",
        "comando input\n",
        "num=int(input('Digite um número:'))\n",
        "if num<5:\n",
        "  print('Número válido')\n",
        "else:\n",
        "  print('Número inválido')\n",
        "'''\n",
        "#Número de vitórias para o Vasco ganhar o BR23\n",
        "derrotas=int(input('Número de derrotas:'))\n",
        "empates=int(input('Número de empates:'))\n",
        "vitorias=int(input('Número de vitorias:'))\n",
        "pts1=derrotas*0\n",
        "pts2=empates*1\n",
        "pts3=vitorias*3\n",
        "pts4=pts1+pts2+pts3\n",
        "\n",
        "print(pts1)\n",
        "print(pts2)\n",
        "print(pts3)\n",
        "print(pts4)\n",
        "\n",
        "if derrotas+empates+vitorias>38:\n",
        "  print('Há algumas rodadas a mais, digite de novo!')\n",
        "else:\n",
        "  print('Todas as rodadas foram concluídas')\n"
      ]
    }
  ]
}